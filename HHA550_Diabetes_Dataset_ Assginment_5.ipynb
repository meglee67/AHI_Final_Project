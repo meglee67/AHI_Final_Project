{
 "cells": [
  {
   "cell_type": "code",
   "execution_count": 3,
   "id": "a10f0b17",
   "metadata": {},
   "outputs": [
    {
     "name": "stdout",
     "output_type": "stream",
     "text": [
      "Requirement already satisfied: seaborn in c:\\users\\johnc\\anaconda3\\lib\\site-packages (0.12.2)\n",
      "Requirement already satisfied: numpy!=1.24.0,>=1.17 in c:\\users\\johnc\\anaconda3\\lib\\site-packages (from seaborn) (1.24.3)\n",
      "Requirement already satisfied: pandas>=0.25 in c:\\users\\johnc\\anaconda3\\lib\\site-packages (from seaborn) (2.0.3)\n",
      "Requirement already satisfied: matplotlib!=3.6.1,>=3.1 in c:\\users\\johnc\\anaconda3\\lib\\site-packages (from seaborn) (3.7.2)\n",
      "Requirement already satisfied: contourpy>=1.0.1 in c:\\users\\johnc\\anaconda3\\lib\\site-packages (from matplotlib!=3.6.1,>=3.1->seaborn) (1.0.5)\n",
      "Requirement already satisfied: cycler>=0.10 in c:\\users\\johnc\\anaconda3\\lib\\site-packages (from matplotlib!=3.6.1,>=3.1->seaborn) (0.11.0)\n",
      "Requirement already satisfied: fonttools>=4.22.0 in c:\\users\\johnc\\anaconda3\\lib\\site-packages (from matplotlib!=3.6.1,>=3.1->seaborn) (4.25.0)\n",
      "Requirement already satisfied: kiwisolver>=1.0.1 in c:\\users\\johnc\\anaconda3\\lib\\site-packages (from matplotlib!=3.6.1,>=3.1->seaborn) (1.4.4)\n",
      "Requirement already satisfied: packaging>=20.0 in c:\\users\\johnc\\anaconda3\\lib\\site-packages (from matplotlib!=3.6.1,>=3.1->seaborn) (23.1)\n",
      "Requirement already satisfied: pillow>=6.2.0 in c:\\users\\johnc\\anaconda3\\lib\\site-packages (from matplotlib!=3.6.1,>=3.1->seaborn) (9.4.0)\n",
      "Requirement already satisfied: pyparsing<3.1,>=2.3.1 in c:\\users\\johnc\\anaconda3\\lib\\site-packages (from matplotlib!=3.6.1,>=3.1->seaborn) (3.0.9)\n",
      "Requirement already satisfied: python-dateutil>=2.7 in c:\\users\\johnc\\anaconda3\\lib\\site-packages (from matplotlib!=3.6.1,>=3.1->seaborn) (2.8.2)\n",
      "Requirement already satisfied: pytz>=2020.1 in c:\\users\\johnc\\anaconda3\\lib\\site-packages (from pandas>=0.25->seaborn) (2023.3.post1)\n",
      "Requirement already satisfied: tzdata>=2022.1 in c:\\users\\johnc\\anaconda3\\lib\\site-packages (from pandas>=0.25->seaborn) (2023.3)\n",
      "Requirement already satisfied: six>=1.5 in c:\\users\\johnc\\anaconda3\\lib\\site-packages (from python-dateutil>=2.7->matplotlib!=3.6.1,>=3.1->seaborn) (1.16.0)\n",
      "Requirement already satisfied: missingno in c:\\users\\johnc\\anaconda3\\lib\\site-packages (0.5.2)\n",
      "Requirement already satisfied: numpy in c:\\users\\johnc\\anaconda3\\lib\\site-packages (from missingno) (1.24.3)\n",
      "Requirement already satisfied: matplotlib in c:\\users\\johnc\\anaconda3\\lib\\site-packages (from missingno) (3.7.2)\n",
      "Requirement already satisfied: scipy in c:\\users\\johnc\\anaconda3\\lib\\site-packages (from missingno) (1.11.1)\n",
      "Requirement already satisfied: seaborn in c:\\users\\johnc\\anaconda3\\lib\\site-packages (from missingno) (0.12.2)\n",
      "Requirement already satisfied: contourpy>=1.0.1 in c:\\users\\johnc\\anaconda3\\lib\\site-packages (from matplotlib->missingno) (1.0.5)\n",
      "Requirement already satisfied: cycler>=0.10 in c:\\users\\johnc\\anaconda3\\lib\\site-packages (from matplotlib->missingno) (0.11.0)\n",
      "Requirement already satisfied: fonttools>=4.22.0 in c:\\users\\johnc\\anaconda3\\lib\\site-packages (from matplotlib->missingno) (4.25.0)\n",
      "Requirement already satisfied: kiwisolver>=1.0.1 in c:\\users\\johnc\\anaconda3\\lib\\site-packages (from matplotlib->missingno) (1.4.4)\n",
      "Requirement already satisfied: packaging>=20.0 in c:\\users\\johnc\\anaconda3\\lib\\site-packages (from matplotlib->missingno) (23.1)\n",
      "Requirement already satisfied: pillow>=6.2.0 in c:\\users\\johnc\\anaconda3\\lib\\site-packages (from matplotlib->missingno) (9.4.0)\n",
      "Requirement already satisfied: pyparsing<3.1,>=2.3.1 in c:\\users\\johnc\\anaconda3\\lib\\site-packages (from matplotlib->missingno) (3.0.9)\n",
      "Requirement already satisfied: python-dateutil>=2.7 in c:\\users\\johnc\\anaconda3\\lib\\site-packages (from matplotlib->missingno) (2.8.2)\n",
      "Requirement already satisfied: pandas>=0.25 in c:\\users\\johnc\\anaconda3\\lib\\site-packages (from seaborn->missingno) (2.0.3)\n",
      "Requirement already satisfied: pytz>=2020.1 in c:\\users\\johnc\\anaconda3\\lib\\site-packages (from pandas>=0.25->seaborn->missingno) (2023.3.post1)\n",
      "Requirement already satisfied: tzdata>=2022.1 in c:\\users\\johnc\\anaconda3\\lib\\site-packages (from pandas>=0.25->seaborn->missingno) (2023.3)\n",
      "Requirement already satisfied: six>=1.5 in c:\\users\\johnc\\anaconda3\\lib\\site-packages (from python-dateutil>=2.7->matplotlib->missingno) (1.16.0)\n",
      "Requirement already satisfied: xgboost in c:\\users\\johnc\\anaconda3\\lib\\site-packages (2.0.3)\n",
      "Requirement already satisfied: numpy in c:\\users\\johnc\\anaconda3\\lib\\site-packages (from xgboost) (1.24.3)\n",
      "Requirement already satisfied: scipy in c:\\users\\johnc\\anaconda3\\lib\\site-packages (from xgboost) (1.11.1)\n",
      "Requirement already satisfied: catboost in c:\\users\\johnc\\anaconda3\\lib\\site-packages (1.2.3)\n",
      "Requirement already satisfied: graphviz in c:\\users\\johnc\\anaconda3\\lib\\site-packages (from catboost) (0.20.1)\n",
      "Requirement already satisfied: matplotlib in c:\\users\\johnc\\anaconda3\\lib\\site-packages (from catboost) (3.7.2)\n",
      "Requirement already satisfied: numpy>=1.16.0 in c:\\users\\johnc\\anaconda3\\lib\\site-packages (from catboost) (1.24.3)\n",
      "Requirement already satisfied: pandas>=0.24 in c:\\users\\johnc\\anaconda3\\lib\\site-packages (from catboost) (2.0.3)\n",
      "Requirement already satisfied: scipy in c:\\users\\johnc\\anaconda3\\lib\\site-packages (from catboost) (1.11.1)\n",
      "Requirement already satisfied: plotly in c:\\users\\johnc\\anaconda3\\lib\\site-packages (from catboost) (5.9.0)\n",
      "Requirement already satisfied: six in c:\\users\\johnc\\anaconda3\\lib\\site-packages (from catboost) (1.16.0)\n",
      "Requirement already satisfied: python-dateutil>=2.8.2 in c:\\users\\johnc\\anaconda3\\lib\\site-packages (from pandas>=0.24->catboost) (2.8.2)\n",
      "Requirement already satisfied: pytz>=2020.1 in c:\\users\\johnc\\anaconda3\\lib\\site-packages (from pandas>=0.24->catboost) (2023.3.post1)\n",
      "Requirement already satisfied: tzdata>=2022.1 in c:\\users\\johnc\\anaconda3\\lib\\site-packages (from pandas>=0.24->catboost) (2023.3)\n",
      "Requirement already satisfied: contourpy>=1.0.1 in c:\\users\\johnc\\anaconda3\\lib\\site-packages (from matplotlib->catboost) (1.0.5)\n",
      "Requirement already satisfied: cycler>=0.10 in c:\\users\\johnc\\anaconda3\\lib\\site-packages (from matplotlib->catboost) (0.11.0)\n",
      "Requirement already satisfied: fonttools>=4.22.0 in c:\\users\\johnc\\anaconda3\\lib\\site-packages (from matplotlib->catboost) (4.25.0)\n",
      "Requirement already satisfied: kiwisolver>=1.0.1 in c:\\users\\johnc\\anaconda3\\lib\\site-packages (from matplotlib->catboost) (1.4.4)\n",
      "Requirement already satisfied: packaging>=20.0 in c:\\users\\johnc\\anaconda3\\lib\\site-packages (from matplotlib->catboost) (23.1)\n",
      "Requirement already satisfied: pillow>=6.2.0 in c:\\users\\johnc\\anaconda3\\lib\\site-packages (from matplotlib->catboost) (9.4.0)\n",
      "Requirement already satisfied: pyparsing<3.1,>=2.3.1 in c:\\users\\johnc\\anaconda3\\lib\\site-packages (from matplotlib->catboost) (3.0.9)\n",
      "Requirement already satisfied: tenacity>=6.2.0 in c:\\users\\johnc\\anaconda3\\lib\\site-packages (from plotly->catboost) (8.2.2)\n",
      "Requirement already satisfied: regex in c:\\users\\johnc\\anaconda3\\lib\\site-packages (2022.7.9)\n",
      "Collecting sklearn"
     ]
    },
    {
     "name": "stderr",
     "output_type": "stream",
     "text": [
      "  error: subprocess-exited-with-error\n",
      "  \n",
      "  python setup.py egg_info did not run successfully.\n",
      "  exit code: 1\n",
      "  \n",
      "  [15 lines of output]\n",
      "  The 'sklearn' PyPI package is deprecated, use 'scikit-learn'\n",
      "  rather than 'sklearn' for pip commands.\n",
      "  \n",
      "  Here is how to fix this error in the main use cases:\n",
      "  - use 'pip install scikit-learn' rather than 'pip install sklearn'\n",
      "  - replace 'sklearn' by 'scikit-learn' in your pip requirements files\n",
      "    (requirements.txt, setup.py, setup.cfg, Pipfile, etc ...)\n",
      "  - if the 'sklearn' package is used by one of your dependencies,\n",
      "    it would be great if you take some time to track which package uses\n",
      "    'sklearn' instead of 'scikit-learn' and report it to their issue tracker\n",
      "  - as a last resort, set the environment variable\n",
      "    SKLEARN_ALLOW_DEPRECATED_SKLEARN_PACKAGE_INSTALL=True to avoid this error\n",
      "  \n",
      "  More information is available at\n",
      "  https://github.com/scikit-learn/sklearn-pypi-package\n",
      "  [end of output]\n",
      "  \n",
      "  note: This error originates from a subprocess, and is likely not a problem with pip.\n",
      "error: metadata-generation-failed\n",
      "\n",
      "Encountered error while generating package metadata.\n",
      "\n",
      "See above for output.\n",
      "\n",
      "note: This is an issue with the package mentioned above, not pip.\n",
      "hint: See above for details.\n"
     ]
    },
    {
     "name": "stdout",
     "output_type": "stream",
     "text": [
      "\n",
      "  Using cached sklearn-0.0.post12.tar.gz (2.6 kB)\n",
      "  Preparing metadata (setup.py): started\n",
      "  Preparing metadata (setup.py): finished with status 'error'\n",
      "Requirement already satisfied: pandas in c:\\users\\johnc\\anaconda3\\lib\\site-packages (2.0.3)\n",
      "Requirement already satisfied: python-dateutil>=2.8.2 in c:\\users\\johnc\\anaconda3\\lib\\site-packages (from pandas) (2.8.2)\n",
      "Requirement already satisfied: pytz>=2020.1 in c:\\users\\johnc\\anaconda3\\lib\\site-packages (from pandas) (2023.3.post1)\n",
      "Requirement already satisfied: tzdata>=2022.1 in c:\\users\\johnc\\anaconda3\\lib\\site-packages (from pandas) (2023.3)\n",
      "Requirement already satisfied: numpy>=1.21.0 in c:\\users\\johnc\\anaconda3\\lib\\site-packages (from pandas) (1.24.3)\n",
      "Requirement already satisfied: six>=1.5 in c:\\users\\johnc\\anaconda3\\lib\\site-packages (from python-dateutil>=2.8.2->pandas) (1.16.0)\n",
      "Requirement already satisfied: numpy in c:\\users\\johnc\\anaconda3\\lib\\site-packages (1.24.3)\n",
      "Requirement already satisfied: imblearn in c:\\users\\johnc\\anaconda3\\lib\\site-packages (0.0)\n",
      "Requirement already satisfied: imbalanced-learn in c:\\users\\johnc\\anaconda3\\lib\\site-packages (from imblearn) (0.12.0)\n",
      "Requirement already satisfied: numpy>=1.17.3 in c:\\users\\johnc\\anaconda3\\lib\\site-packages (from imbalanced-learn->imblearn) (1.24.3)\n",
      "Requirement already satisfied: scipy>=1.5.0 in c:\\users\\johnc\\anaconda3\\lib\\site-packages (from imbalanced-learn->imblearn) (1.11.1)\n",
      "Requirement already satisfied: scikit-learn>=1.0.2 in c:\\users\\johnc\\anaconda3\\lib\\site-packages (from imbalanced-learn->imblearn) (1.4.1.post1)\n",
      "Requirement already satisfied: joblib>=1.1.1 in c:\\users\\johnc\\anaconda3\\lib\\site-packages (from imbalanced-learn->imblearn) (1.2.0)\n",
      "Requirement already satisfied: threadpoolctl>=2.0.0 in c:\\users\\johnc\\anaconda3\\lib\\site-packages (from imbalanced-learn->imblearn) (2.2.0)\n",
      "Requirement already satisfied: lightgbm in c:\\users\\johnc\\anaconda3\\lib\\site-packages (4.3.0)\n",
      "Requirement already satisfied: numpy in c:\\users\\johnc\\anaconda3\\lib\\site-packages (from lightgbm) (1.24.3)\n",
      "Requirement already satisfied: scipy in c:\\users\\johnc\\anaconda3\\lib\\site-packages (from lightgbm) (1.11.1)\n"
     ]
    }
   ],
   "source": [
    "# Commands to install some of the libraries in-case if they are not installed\n",
    "# Any other library that needs to be installed just use: !pip install <library name>\n",
    "    \n",
    "!pip install seaborn\n",
    "!pip install missingno\n",
    "!pip install xgboost\n",
    "!pip install catboost\n",
    "!pip install regex\n",
    "!pip install sklearn\n",
    "!pip install pandas\n",
    "!pip install numpy\n",
    "!pip install imblearn\n",
    "!pip install lightgbm"
   ]
  },
  {
   "cell_type": "code",
   "execution_count": 4,
   "id": "4e845f77",
   "metadata": {},
   "outputs": [],
   "source": [
    "import pandas as pd   # data processing, CSV file I/O (e.g. pd.read_csv)\n",
    "import numpy as np   # linear algebra\n",
    "import matplotlib.pyplot as plt  #graphs and plots\n",
    "import seaborn as sns   #data visualizations\n",
    "import csv # Some extra functionalities for csv  files - reading it as a dictionary\n",
    "from lightgbm import LGBMClassifier #sklearn is for machine learning and statistical modeling including classification, regression, clustering and dimensionality reduction\n",
    "\n",
    "from sklearn.model_selection import train_test_split, cross_validate   #break up dataset into train and test sets\n",
    "\n",
    "from sklearn.linear_model import LogisticRegression\n",
    "from sklearn.ensemble import RandomForestClassifier\n",
    "from sklearn.model_selection import cross_val_score\n",
    "from sklearn.preprocessing import StandardScaler, MinMaxScaler\n",
    "\n",
    "\n",
    "# importing python library for working with missing data\n",
    "import missingno as msno\n",
    "# To install missingno use: !pip install missingno\n",
    "import re    # This library is used to perform regex pattern matching\n",
    "\n",
    "# import various functions from sklearn\n",
    "from sklearn.linear_model import LogisticRegression, LinearRegression\n",
    "from sklearn.neighbors import KNeighborsClassifier\n",
    "from sklearn.tree import DecisionTreeClassifier\n",
    "from sklearn.ensemble import RandomForestClassifier\n",
    "from sklearn.svm import LinearSVC\n",
    "from sklearn.ensemble import GradientBoostingClassifier\n",
    "from catboost import CatBoostClassifier\n",
    "import xgboost as xgb\n",
    "from sklearn.metrics import roc_auc_score, accuracy_score, precision_score, recall_score, classification_report, make_scorer\n",
    "from sklearn.linear_model import SGDClassifier\n",
    "from sklearn.model_selection import GridSearchCV, RandomizedSearchCV, train_test_split"
   ]
  },
  {
   "cell_type": "markdown",
   "id": "910c0044",
   "metadata": {},
   "source": [
    "Import additional items as needed...\n",
    "We may not use them all in this course..."
   ]
  },
  {
   "cell_type": "code",
   "execution_count": 5,
   "id": "42076737",
   "metadata": {},
   "outputs": [
    {
     "name": "stdout",
     "output_type": "stream",
     "text": [
      "Retrieving notices: ...working... done\n",
      "Collecting package metadata (current_repodata.json): ...working... done\n",
      "Solving environment: ...working... done\n",
      "\n",
      "# All requested packages already installed.\n",
      "\n",
      "\n",
      "Note: you may need to restart the kernel to use updated packages.\n"
     ]
    },
    {
     "name": "stderr",
     "output_type": "stream",
     "text": [
      "\n",
      "\n",
      "==> WARNING: A newer version of conda exists. <==\n",
      "  current version: 23.7.4\n",
      "  latest version: 24.1.2\n",
      "\n",
      "Please update conda by running\n",
      "\n",
      "    $ conda update -n base -c defaults conda\n",
      "\n",
      "Or to minimize the number of packages updated during conda update use\n",
      "\n",
      "     conda install conda=24.1.2\n",
      "\n",
      "\n"
     ]
    }
   ],
   "source": [
    "conda install -c conda-forge imbalanced-learn"
   ]
  },
  {
   "cell_type": "code",
   "execution_count": 4,
   "id": "d6cac855",
   "metadata": {},
   "outputs": [],
   "source": [
    "from imblearn.over_sampling import SMOTE"
   ]
  },
  {
   "cell_type": "code",
   "execution_count": 5,
   "id": "ebafc445",
   "metadata": {},
   "outputs": [],
   "source": [
    "from sklearn.model_selection import KFold,cross_val_score, RepeatedStratifiedKFold,StratifiedKFold\n",
    "from sklearn.impute import SimpleImputer\n",
    "from sklearn.pipeline import Pipeline\n",
    "from sklearn.discriminant_analysis import LinearDiscriminantAnalysis\n",
    "from sklearn.preprocessing import OneHotEncoder,StandardScaler,PowerTransformer\n",
    "from sklearn.compose import ColumnTransformer\n",
    "from sklearn.pipeline import Pipeline\n",
    "from sklearn.impute import KNNImputer,SimpleImputer\n",
    "from sklearn.compose import make_column_transformer\n",
    "from imblearn.pipeline import make_pipeline\n",
    "from sklearn.svm import SVC\n",
    "from sklearn.impute import SimpleImputer\n",
    "from sklearn.dummy import DummyClassifier\n",
    "from imblearn.over_sampling import SMOTE\n",
    "from sklearn.neighbors import KNeighborsClassifier\n",
    "from sklearn.metrics import confusion_matrix, accuracy_score, balanced_accuracy_score,\\\n",
    "                            precision_score, recall_score, roc_auc_score,\\\n",
    "                            classification_report, f1_score\n",
    "\n",
    "import plotly \n",
    "import plotly.express as px\n",
    "import plotly.graph_objs as go\n",
    "import plotly.offline as py\n",
    "from plotly.offline import iplot\n",
    "from plotly.subplots import make_subplots\n",
    "import plotly.figure_factory as ff\n",
    "\n",
    "import warnings\n",
    "warnings.filterwarnings(\"ignore\")"
   ]
  },
  {
   "cell_type": "markdown",
   "id": "9136179d",
   "metadata": {},
   "source": [
    "* If from imblearn.oversampling import SMOTE does not load use\n",
    "    `conda install -c conda-forge imbalanced-learn`\n",
    "* Then rerun\n",
    "    `from imblearn.over_sampling import SMOTE`"
   ]
  },
  {
   "cell_type": "code",
   "execution_count": 7,
   "id": "95566d9f",
   "metadata": {},
   "outputs": [],
   "source": [
    "diabetes_new = pd.read_csv(\"C:\\\\Users\\\\johnc\\\\Downloads\\\\diabetes_test.csv\")\n"
   ]
  },
  {
   "cell_type": "code",
   "execution_count": 8,
   "id": "31ebc7bd",
   "metadata": {},
   "outputs": [
    {
     "name": "stdout",
     "output_type": "stream",
     "text": [
      "                   race  gender      age  time_in_hospital  \\\n",
      "0             Caucasian  Female   [0-10)                 1   \n",
      "1             Caucasian  Female  [10-20)                 3   \n",
      "2       AfricanAmerican  Female  [20-30)                 2   \n",
      "3             Caucasian    Male  [30-40)                 2   \n",
      "4             Caucasian    Male  [40-50)                 1   \n",
      "...                 ...     ...      ...               ...   \n",
      "101761  AfricanAmerican    Male  [70-80)                 3   \n",
      "101762  AfricanAmerican  Female  [80-90)                 5   \n",
      "101763        Caucasian    Male  [70-80)                 1   \n",
      "101764        Caucasian  Female  [80-90)                10   \n",
      "101765        Caucasian    Male  [70-80)                 6   \n",
      "\n",
      "        num_lab_procedures  num_procedures  num_medications  \\\n",
      "0                       41               0                1   \n",
      "1                       59               0               18   \n",
      "2                       11               5               13   \n",
      "3                       44               1               16   \n",
      "4                       51               0                8   \n",
      "...                    ...             ...              ...   \n",
      "101761                  51               0               16   \n",
      "101762                  33               3               18   \n",
      "101763                  53               0                9   \n",
      "101764                  45               2               21   \n",
      "101765                  13               3                3   \n",
      "\n",
      "        number_outpatient  number_emergency  number_inpatient  ...  \\\n",
      "0                       0                 0                 0  ...   \n",
      "1                       0                 0                 0  ...   \n",
      "2                       2                 0                 1  ...   \n",
      "3                       0                 0                 0  ...   \n",
      "4                       0                 0                 0  ...   \n",
      "...                   ...               ...               ...  ...   \n",
      "101761                  0                 0                 0  ...   \n",
      "101762                  0                 0                 1  ...   \n",
      "101763                  1                 0                 0  ...   \n",
      "101764                  0                 0                 1  ...   \n",
      "101765                  0                 0                 0  ...   \n",
      "\n",
      "        citoglipton insulin glyburide-metformin glipizide-metformin  \\\n",
      "0                No      No                  No                  No   \n",
      "1                No      Up                  No                  No   \n",
      "2                No      No                  No                  No   \n",
      "3                No      Up                  No                  No   \n",
      "4                No  Steady                  No                  No   \n",
      "...             ...     ...                 ...                 ...   \n",
      "101761           No    Down                  No                  No   \n",
      "101762           No  Steady                  No                  No   \n",
      "101763           No    Down                  No                  No   \n",
      "101764           No      Up                  No                  No   \n",
      "101765           No      No                  No                  No   \n",
      "\n",
      "       glimepiride-pioglitazone metformin-rosiglitazone  \\\n",
      "0                            No                      No   \n",
      "1                            No                      No   \n",
      "2                            No                      No   \n",
      "3                            No                      No   \n",
      "4                            No                      No   \n",
      "...                         ...                     ...   \n",
      "101761                       No                      No   \n",
      "101762                       No                      No   \n",
      "101763                       No                      No   \n",
      "101764                       No                      No   \n",
      "101765                       No                      No   \n",
      "\n",
      "       metformin-pioglitazone change diabetesMed readmitted  \n",
      "0                          No     No          No          0  \n",
      "1                          No     Ch         Yes          0  \n",
      "2                          No     No         Yes          0  \n",
      "3                          No     Ch         Yes          0  \n",
      "4                          No     Ch         Yes          0  \n",
      "...                       ...    ...         ...        ...  \n",
      "101761                     No     Ch         Yes          0  \n",
      "101762                     No     No         Yes          0  \n",
      "101763                     No     Ch         Yes          0  \n",
      "101764                     No     Ch         Yes          0  \n",
      "101765                     No     No          No          0  \n",
      "\n",
      "[101766 rows x 39 columns]\n"
     ]
    }
   ],
   "source": [
    "diabetes_new['readmitted'] = diabetes_new['readmitted'].replace({'NO':0,'>30':0,'<30':1})\n",
    "print(diabetes_new)"
   ]
  },
  {
   "cell_type": "markdown",
   "id": "0d3afce7",
   "metadata": {},
   "source": [
    "# Breaking the data up into Train & Test"
   ]
  },
  {
   "cell_type": "code",
   "execution_count": 9,
   "id": "593b07cd",
   "metadata": {},
   "outputs": [],
   "source": [
    "# Using get_dummies from the pandas library to convert categorical feature to numeric\n",
    "diabetes_ready = pd.get_dummies(diabetes_new, drop_first = False)\n"
   ]
  },
  {
   "cell_type": "code",
   "execution_count": 10,
   "id": "2af6fe0e",
   "metadata": {},
   "outputs": [
    {
     "name": "stdout",
     "output_type": "stream",
     "text": [
      "        time_in_hospital  num_lab_procedures  num_procedures  num_medications  \\\n",
      "0                      1                  41               0                1   \n",
      "1                      3                  59               0               18   \n",
      "2                      2                  11               5               13   \n",
      "3                      2                  44               1               16   \n",
      "4                      1                  51               0                8   \n",
      "...                  ...                 ...             ...              ...   \n",
      "101761                 3                  51               0               16   \n",
      "101762                 5                  33               3               18   \n",
      "101763                 1                  53               0                9   \n",
      "101764                10                  45               2               21   \n",
      "101765                 6                  13               3                3   \n",
      "\n",
      "        number_outpatient  number_emergency  number_inpatient  \\\n",
      "0                       0                 0                 0   \n",
      "1                       0                 0                 0   \n",
      "2                       2                 0                 1   \n",
      "3                       0                 0                 0   \n",
      "4                       0                 0                 0   \n",
      "...                   ...               ...               ...   \n",
      "101761                  0                 0                 0   \n",
      "101762                  0                 0                 1   \n",
      "101763                  1                 0                 0   \n",
      "101764                  0                 0                 1   \n",
      "101765                  0                 0                 0   \n",
      "\n",
      "        number_diagnoses  readmitted  race_AfricanAmerican  ...  \\\n",
      "0                      1           0                 False  ...   \n",
      "1                      9           0                 False  ...   \n",
      "2                      6           0                  True  ...   \n",
      "3                      7           0                 False  ...   \n",
      "4                      5           0                 False  ...   \n",
      "...                  ...         ...                   ...  ...   \n",
      "101761                 9           0                  True  ...   \n",
      "101762                 9           0                  True  ...   \n",
      "101763                13           0                 False  ...   \n",
      "101764                 9           0                 False  ...   \n",
      "101765                 9           0                 False  ...   \n",
      "\n",
      "        glimepiride-pioglitazone_No  glimepiride-pioglitazone_Steady  \\\n",
      "0                              True                            False   \n",
      "1                              True                            False   \n",
      "2                              True                            False   \n",
      "3                              True                            False   \n",
      "4                              True                            False   \n",
      "...                             ...                              ...   \n",
      "101761                         True                            False   \n",
      "101762                         True                            False   \n",
      "101763                         True                            False   \n",
      "101764                         True                            False   \n",
      "101765                         True                            False   \n",
      "\n",
      "        metformin-rosiglitazone_No  metformin-rosiglitazone_Steady  \\\n",
      "0                             True                           False   \n",
      "1                             True                           False   \n",
      "2                             True                           False   \n",
      "3                             True                           False   \n",
      "4                             True                           False   \n",
      "...                            ...                             ...   \n",
      "101761                        True                           False   \n",
      "101762                        True                           False   \n",
      "101763                        True                           False   \n",
      "101764                        True                           False   \n",
      "101765                        True                           False   \n",
      "\n",
      "        metformin-pioglitazone_No  metformin-pioglitazone_Steady  change_Ch  \\\n",
      "0                            True                          False      False   \n",
      "1                            True                          False       True   \n",
      "2                            True                          False      False   \n",
      "3                            True                          False       True   \n",
      "4                            True                          False       True   \n",
      "...                           ...                            ...        ...   \n",
      "101761                       True                          False       True   \n",
      "101762                       True                          False      False   \n",
      "101763                       True                          False       True   \n",
      "101764                       True                          False       True   \n",
      "101765                       True                          False      False   \n",
      "\n",
      "        change_No  diabetesMed_No  diabetesMed_Yes  \n",
      "0            True            True            False  \n",
      "1           False           False             True  \n",
      "2            True           False             True  \n",
      "3           False           False             True  \n",
      "4           False           False             True  \n",
      "...           ...             ...              ...  \n",
      "101761      False           False             True  \n",
      "101762       True           False             True  \n",
      "101763      False           False             True  \n",
      "101764      False           False             True  \n",
      "101765       True            True            False  \n",
      "\n",
      "[101766 rows x 108 columns]\n"
     ]
    }
   ],
   "source": [
    "print(diabetes_ready)"
   ]
  },
  {
   "cell_type": "code",
   "execution_count": 11,
   "id": "23150ab7",
   "metadata": {},
   "outputs": [],
   "source": [
    "train_df, valid_df, test_df = np.split(diabetes_ready.sample(frac=1, random_state=42),\n",
    "                                       [int(.7*len(diabetes_ready)), int(0.85*len(diabetes_ready))])\n",
    "train_df = train_df.reset_index(drop = True)\n",
    "valid_df = valid_df.reset_index(drop = True)\n",
    "test_df = test_df.reset_index(drop = True)"
   ]
  },
  {
   "cell_type": "code",
   "execution_count": 12,
   "id": "304ba0de",
   "metadata": {},
   "outputs": [
    {
     "data": {
      "text/plain": [
       "readmitted\n",
       "0    90409\n",
       "1    11357\n",
       "Name: count, dtype: int64"
      ]
     },
     "execution_count": 12,
     "metadata": {},
     "output_type": "execute_result"
    }
   ],
   "source": [
    "diabetes_ready.readmitted.value_counts()"
   ]
  },
  {
   "cell_type": "code",
   "execution_count": 13,
   "id": "689c1912",
   "metadata": {},
   "outputs": [
    {
     "data": {
      "text/plain": [
       "readmitted\n",
       "0    63275\n",
       "1     7961\n",
       "Name: count, dtype: int64"
      ]
     },
     "execution_count": 13,
     "metadata": {},
     "output_type": "execute_result"
    }
   ],
   "source": [
    "train_df.readmitted.value_counts()"
   ]
  },
  {
   "cell_type": "code",
   "execution_count": 14,
   "id": "546fc97f",
   "metadata": {},
   "outputs": [
    {
     "data": {
      "text/plain": [
       "readmitted\n",
       "0    13520\n",
       "1     1745\n",
       "Name: count, dtype: int64"
      ]
     },
     "execution_count": 14,
     "metadata": {},
     "output_type": "execute_result"
    }
   ],
   "source": [
    "valid_df.readmitted.value_counts()"
   ]
  },
  {
   "cell_type": "code",
   "execution_count": 15,
   "id": "6d1b8408",
   "metadata": {},
   "outputs": [
    {
     "data": {
      "text/plain": [
       "readmitted\n",
       "0    13614\n",
       "1     1651\n",
       "Name: count, dtype: int64"
      ]
     },
     "execution_count": 15,
     "metadata": {},
     "output_type": "execute_result"
    }
   ],
   "source": [
    "test_df.readmitted.value_counts()"
   ]
  },
  {
   "cell_type": "markdown",
   "id": "0cad6054",
   "metadata": {},
   "source": [
    "# Treating the Imbalance in the Data"
   ]
  },
  {
   "cell_type": "markdown",
   "id": "b80ce827",
   "metadata": {},
   "source": [
    "The data above contians an imbalance of data since there is significanlty more patients that were not readmitted comapred to those that were. 13K vs 1.6K. Thus I need to correct this imbalance by synthesizing data."
   ]
  },
  {
   "cell_type": "code",
   "execution_count": 16,
   "id": "c7d35fb6",
   "metadata": {},
   "outputs": [],
   "source": [
    "def calc_prevalence(y_actual):\n",
    "    \n",
    "    '''\n",
    "    This function is to understand the ratio/distribution of the classes that we are going to predict for.\n",
    "    \n",
    "    Params:\n",
    "    1. y_actual: The target feature\n",
    "    \n",
    "    Return:\n",
    "    1. (sum(y_actual)/len(y_actual)): The ratio of the postive class in the comlpete data.\n",
    "    '''\n",
    "    \n",
    "    return (sum(y_actual)/len(y_actual))"
   ]
  },
  {
   "cell_type": "code",
   "execution_count": 17,
   "id": "6a9dfc36",
   "metadata": {},
   "outputs": [
    {
     "name": "stdout",
     "output_type": "stream",
     "text": [
      "Train balanced prevalence(n = 15922):0.500\n"
     ]
    }
   ],
   "source": [
    "rows_pos = train_df.readmitted == 1\n",
    "df_train_pos = train_df.loc[rows_pos]\n",
    "df_train_neg = train_df.loc[~rows_pos]\n",
    "\n",
    "diabetes_df_balanced = pd.concat([df_train_pos, df_train_neg.sample(n = len(df_train_pos), random_state = 111)],axis = 0)\n",
    "\n",
    "diabetes_df_balanced = diabetes_df_balanced.sample(n = len(diabetes_df_balanced), random_state = 42).reset_index(drop = True)\n",
    "\n",
    "print('Train balanced prevalence(n = %d):%.3f'%(len(diabetes_df_balanced), \\\n",
    "                                                calc_prevalence(diabetes_df_balanced.readmitted.values)))"
   ]
  },
  {
   "cell_type": "markdown",
   "id": "90f74d47",
   "metadata": {},
   "source": [
    "Now after splitting the training data into postive and negative I was able to merge the balanced data and shuffle its order. As can be seen below both counts of the readmitted column are now balanced. "
   ]
  },
  {
   "cell_type": "code",
   "execution_count": 18,
   "id": "938bbaef",
   "metadata": {},
   "outputs": [
    {
     "data": {
      "text/plain": [
       "readmitted\n",
       "1    7961\n",
       "0    7961\n",
       "Name: count, dtype: int64"
      ]
     },
     "execution_count": 18,
     "metadata": {},
     "output_type": "execute_result"
    }
   ],
   "source": [
    "diabetes_df_balanced.readmitted.value_counts()"
   ]
  },
  {
   "cell_type": "markdown",
   "id": "25e661dd",
   "metadata": {},
   "source": [
    "Below I am creating variables for me test, validation and training datasets to seperate the feature variables from the target variable."
   ]
  },
  {
   "cell_type": "code",
   "execution_count": 19,
   "id": "7590ce92",
   "metadata": {},
   "outputs": [],
   "source": [
    "X_train = diabetes_df_balanced.drop('readmitted',axis=1)\n",
    "\n",
    "y_train = diabetes_df_balanced['readmitted']\n",
    "\n",
    "X_valid = valid_df.drop('readmitted',axis=1)\n",
    "\n",
    "y_valid = valid_df['readmitted']\n",
    "\n",
    "X_test = test_df.drop('readmitted',axis=1)\n",
    "\n",
    "y_test = test_df['readmitted']"
   ]
  },
  {
   "cell_type": "code",
   "execution_count": 20,
   "id": "37b5c305",
   "metadata": {},
   "outputs": [],
   "source": [
    "scaler=StandardScaler()\n",
    "X_train[['time_in_hospital','num_lab_procedures','num_procedures','num_medications','number_outpatient','number_emergency','number_inpatient','number_diagnoses']] = pd.DataFrame(scaler.fit_transform(X_train[['time_in_hospital','num_lab_procedures','num_procedures','num_medications','number_outpatient','number_emergency','number_inpatient','number_diagnoses']]),columns=['time_in_hospital','num_lab_procedures','num_procedures','num_medications','number_outpatient','number_emergency','number_inpatient','number_diagnoses'])\n",
    "X_valid[['time_in_hospital','num_lab_procedures','num_procedures','num_medications','number_outpatient','number_emergency','number_inpatient','number_diagnoses']] = pd.DataFrame(scaler.transform(X_valid[['time_in_hospital','num_lab_procedures','num_procedures','num_medications','number_outpatient','number_emergency','number_inpatient','number_diagnoses']]),columns=['time_in_hospital','num_lab_procedures','num_procedures','num_medications','number_outpatient','number_emergency','number_inpatient','number_diagnoses'])\n",
    "X_test[['time_in_hospital','num_lab_procedures','num_procedures','num_medications','number_outpatient','number_emergency','number_inpatient','number_diagnoses']] = pd.DataFrame(scaler.transform(X_test[['time_in_hospital','num_lab_procedures','num_procedures','num_medications','number_outpatient','number_emergency','number_inpatient','number_diagnoses']]),columns=['time_in_hospital','num_lab_procedures','num_procedures','num_medications','number_outpatient','number_emergency','number_inpatient','number_diagnoses'])"
   ]
  },
  {
   "cell_type": "markdown",
   "id": "1afe6898",
   "metadata": {},
   "source": [
    "# Creating and Understanding Models"
   ]
  },
  {
   "cell_type": "code",
   "execution_count": 21,
   "id": "ecf8b577",
   "metadata": {},
   "outputs": [],
   "source": [
    "def calc_specificity(y_actual, y_pred, thresh):\n",
    "    # calculates specificity\n",
    "    return sum((y_pred < thresh) & (y_actual == 0)) /sum(y_actual ==0)\n",
    "\n",
    "def print_report(y_actual, y_pred, thresh = 0.5):\n",
    "    \n",
    "    '''\n",
    "    This function calculates all the metrics to asses the machine learning models.\n",
    "    \n",
    "    Params:\n",
    "    1. y_actual: The actual values for the target variable.\n",
    "    2. y_pred: The predicted values for the target variable.\n",
    "    3. thresh: The threshold for the probability to be considered as a positive class. Default value 0.5\n",
    "    \n",
    "    Return:\n",
    "    1. AUC\n",
    "    2. Accuracy\n",
    "    3. Recall\n",
    "    4. Precision\n",
    "    5. Specificity\n",
    "    '''\n",
    "    \n",
    "    auc = roc_auc_score(y_actual, y_pred)\n",
    "    accuracy = accuracy_score(y_actual, (y_pred > thresh))\n",
    "    recall = recall_score(y_actual, (y_pred > thresh))\n",
    "    precision = precision_score(y_actual, (y_pred > thresh))\n",
    "    specificity = calc_specificity(y_actual, y_pred, thresh)\n",
    "    print('AUC:%.3f'%auc)\n",
    "    print('accuracy:%.3f'%accuracy)\n",
    "    print('recall:%.3f'%recall)\n",
    "    print('precision:%.3f'%precision)\n",
    "    print('specificity:%.3f'%specificity)\n",
    "    print('prevalence:%.3f'%calc_prevalence(y_actual))\n",
    "    print(' ')\n",
    "    return auc, accuracy, recall, precision, specificity"
   ]
  },
  {
   "cell_type": "markdown",
   "id": "7dee8965",
   "metadata": {},
   "source": [
    "## Linear Regression"
   ]
  },
  {
   "cell_type": "code",
   "execution_count": 57,
   "id": "23fae3ca",
   "metadata": {},
   "outputs": [],
   "source": [
    "lnr = LinearRegression()\n",
    "lnr.fit(X_train, y_train)\n",
    "\n",
    "\n",
    "y_valid_preds = lnr.predict(X_valid)"
   ]
  },
  {
   "cell_type": "code",
   "execution_count": 58,
   "id": "e4f3d2f8",
   "metadata": {},
   "outputs": [
    {
     "data": {
      "text/plain": [
       "array([0.48852539, 0.71655273, 0.67602539, ..., 0.47875977, 0.66186523,\n",
       "       0.55004883])"
      ]
     },
     "execution_count": 58,
     "metadata": {},
     "output_type": "execute_result"
    }
   ],
   "source": [
    "y_valid_preds"
   ]
  },
  {
   "cell_type": "markdown",
   "id": "c0a7916d",
   "metadata": {},
   "source": [
    "## Logistic Regression"
   ]
  },
  {
   "cell_type": "code",
   "execution_count": 59,
   "id": "5086c49a",
   "metadata": {},
   "outputs": [
    {
     "name": "stdout",
     "output_type": "stream",
     "text": [
      "Metrics for Validation data:\n",
      "AUC:0.631\n",
      "accuracy:0.653\n",
      "recall:0.513\n",
      "precision:0.168\n",
      "specificity:0.671\n",
      "prevalence:0.114\n",
      " \n"
     ]
    }
   ],
   "source": [
    "lr=LogisticRegression(random_state = 42, solver = 'newton-cg', max_iter = 200)\n",
    "lr.fit(X_train, y_train)\n",
    "\n",
    "y_valid_preds = lr.predict_proba(X_valid)[:,1]\n",
    "\n",
    "print('Metrics for Validation data:')\n",
    "\n",
    "lr_valid_auc, lr_valid_accuracy, lr_valid_recall, \\\n",
    "    lr_valid_precision, lr_valid_specificity = print_report(y_valid,y_valid_preds, 0.5)"
   ]
  },
  {
   "cell_type": "markdown",
   "id": "c9de8c3b",
   "metadata": {},
   "source": [
    "Accoring to the results of the logistic regression:\n",
    "AUC: A score of 0.631 means that the model is able to do slightly better than just random chance.\n",
    "Accuracy: 65.3% of the time it was able to classify the cases correctly in the validation set.\n",
    "Recall: 51.3% of the time the model was able to correctly identify true positve cases from all postive cases in the validation set.\n",
    "Precision: When the model predicts a postive case it only does so correctly 16.8% of the time.\n",
    "Specificity: 67.1% of the time the model was able to correctly identify true negative cases from all negative cases in the validation set.\n",
    "Prevalance: In the validation set only 11.4% of the cases were postive."
   ]
  },
  {
   "cell_type": "markdown",
   "id": "b794a86e",
   "metadata": {},
   "source": [
    "Overall it seems that this model isn't reliable to predict readmission of patients. I know that I would have to do some fine tuning of the data in order to impove the results."
   ]
  },
  {
   "cell_type": "markdown",
   "id": "e6c58897",
   "metadata": {},
   "source": [
    "## KNN Model"
   ]
  },
  {
   "cell_type": "code",
   "execution_count": 30,
   "id": "cba627ad",
   "metadata": {},
   "outputs": [
    {
     "name": "stdout",
     "output_type": "stream",
     "text": [
      "AUC:0.608\n",
      "accuracy:0.592\n",
      "recall:0.541\n",
      "precision:0.148\n",
      "specificity:0.557\n",
      "prevalence:0.114\n",
      " \n"
     ]
    }
   ],
   "source": [
    "knn = KNeighborsClassifier(n_neighbors = 100)\n",
    "knn.fit(X_train, y_train)\n",
    "\n",
    "knn_preds = knn.predict_proba(X_valid)[:,1]\n",
    "\n",
    "lr_valid_auc, lr_valid_accuracy, lr_valid_recall, \\\n",
    "    lr_valid_precision, lr_valid_specificity = print_report(y_valid,knn_preds, 0.5)"
   ]
  },
  {
   "cell_type": "markdown",
   "id": "874f7a99",
   "metadata": {},
   "source": [
    "## Stochastic Gradient Descent Model"
   ]
  },
  {
   "cell_type": "code",
   "execution_count": 31,
   "id": "167f592a",
   "metadata": {},
   "outputs": [
    {
     "name": "stdout",
     "output_type": "stream",
     "text": [
      "Stochastic Gradient Descent\n",
      "Validation:\n",
      "AUC:0.629\n",
      "accuracy:0.698\n",
      "recall:0.435\n",
      "precision:0.173\n",
      "specificity:0.732\n",
      "prevalence:0.114\n",
      " \n"
     ]
    }
   ],
   "source": [
    "sgdc = SGDClassifier(loss='log_loss', alpha=0.1, random_state=42)\n",
    "sgdc.fit(X_train, y_train)\n",
    "\n",
    "sgd_preds = sgdc.predict_proba(X_valid)[:,1]\n",
    "\n",
    "print('Stochastic Gradient Descent')\n",
    "print('Validation:')\n",
    "sgdc_valid_auc, sgdc_valid_accuracy, sgdc_valid_recall, \\\n",
    "                sgdc_valid_precision, sgdc_valid_specificity = print_report(y_valid,sgd_preds, 0.5)"
   ]
  },
  {
   "cell_type": "markdown",
   "id": "ca33dfb9",
   "metadata": {},
   "source": [
    "## Decision Tree"
   ]
  },
  {
   "cell_type": "code",
   "execution_count": 32,
   "id": "5c524b7f",
   "metadata": {},
   "outputs": [
    {
     "name": "stdout",
     "output_type": "stream",
     "text": [
      "AUC:0.598\n",
      "accuracy:0.584\n",
      "recall:0.562\n",
      "precision:0.149\n",
      "specificity:0.583\n",
      "prevalence:0.114\n",
      " \n"
     ]
    }
   ],
   "source": [
    "dc_clf = DecisionTreeClassifier(random_state=42, max_depth = 10)\n",
    "dc_clf.fit(X_train, y_train)\n",
    "\n",
    "dc_preds_proba = dc_clf.predict_proba(X_valid)[:,1]\n",
    "dc_preds = dc_clf.predict(X_valid)\n",
    "\n",
    "lr_valid_auc, lr_valid_accuracy, lr_valid_recall, \\\n",
    "    lr_valid_precision, lr_valid_specificity = print_report(y_valid,dc_preds_proba, 0.5)"
   ]
  },
  {
   "cell_type": "markdown",
   "id": "6def57c6",
   "metadata": {},
   "source": [
    "## Random Forest"
   ]
  },
  {
   "cell_type": "code",
   "execution_count": 33,
   "id": "009ae20e",
   "metadata": {},
   "outputs": [
    {
     "name": "stdout",
     "output_type": "stream",
     "text": [
      "AUC:0.628\n",
      "accuracy:0.610\n",
      "recall:0.562\n",
      "precision:0.159\n",
      "specificity:0.617\n",
      "prevalence:0.114\n",
      " \n"
     ]
    }
   ],
   "source": [
    "rf_clf = RandomForestClassifier(random_state=111, max_depth = 6)\n",
    "\n",
    "rf_clf.fit(X_train, y_train)\n",
    "\n",
    "rf_preds = rf_clf.predict(X_valid)\n",
    "rf_preds_proba = rf_clf.predict_proba(X_valid)[:, 1]\n",
    "\n",
    "lr_valid_auc, lr_valid_accuracy, lr_valid_recall, \\\n",
    "    lr_valid_precision, lr_valid_specificity = print_report(y_valid,rf_preds_proba, 0.5)"
   ]
  },
  {
   "cell_type": "markdown",
   "id": "833a872d",
   "metadata": {},
   "source": [
    "## Linear SVC"
   ]
  },
  {
   "cell_type": "code",
   "execution_count": 34,
   "id": "893e28ff",
   "metadata": {},
   "outputs": [
    {
     "name": "stdout",
     "output_type": "stream",
     "text": [
      "AUC:0.630\n",
      "accuracy:0.879\n",
      "recall:0.074\n",
      "precision:0.359\n",
      "specificity:0.983\n",
      "prevalence:0.114\n",
      " \n"
     ]
    }
   ],
   "source": [
    "lsvc_clf = LinearSVC(random_state=111)\n",
    "lsvc_clf.fit(X_train, y_train)\n",
    "\n",
    "lsvc_preds = lsvc_clf.decision_function(X_valid)\n",
    "\n",
    "lr_valid_auc, lr_valid_accuracy, lr_valid_recall, \\\n",
    "    lr_valid_precision, lr_valid_specificity = print_report(y_valid,lsvc_preds, 0.5)"
   ]
  },
  {
   "cell_type": "markdown",
   "id": "29c695d8",
   "metadata": {},
   "source": [
    "## Gradient Boosting Model"
   ]
  },
  {
   "cell_type": "code",
   "execution_count": 35,
   "id": "c6e1e3d5",
   "metadata": {},
   "outputs": [
    {
     "name": "stdout",
     "output_type": "stream",
     "text": [
      "AUC:0.602\n",
      "accuracy:0.577\n",
      "recall:0.578\n",
      "precision:0.150\n",
      "specificity:0.576\n",
      "prevalence:0.114\n",
      " \n"
     ]
    }
   ],
   "source": [
    "gb_clf = GradientBoostingClassifier(n_estimators = 100, criterion='friedman_mse', learning_rate = 1.0, max_depth = 3,\\\n",
    "                                    random_state = 111)\n",
    "\n",
    "gb_clf.fit(X_train, y_train)\n",
    "gb_preds = gb_clf.predict(X_valid)\n",
    "gb_preds_proba = gb_clf.predict_proba(X_valid)[:, 1]\n",
    "\n",
    "lr_valid_auc, lr_valid_accuracy, lr_valid_recall, \\\n",
    "    lr_valid_precision, lr_valid_specificity = print_report(y_valid,gb_preds_proba, 0.5)"
   ]
  },
  {
   "cell_type": "markdown",
   "id": "dd4b5fe5",
   "metadata": {},
   "source": [
    "## XGB Model"
   ]
  },
  {
   "cell_type": "code",
   "execution_count": 36,
   "id": "411094e4",
   "metadata": {},
   "outputs": [],
   "source": [
    "X_train_try1 = X_train.to_numpy()\n",
    "X_valid_try1 = X_valid.to_numpy()"
   ]
  },
  {
   "cell_type": "code",
   "execution_count": 37,
   "id": "83f18546",
   "metadata": {},
   "outputs": [
    {
     "name": "stdout",
     "output_type": "stream",
     "text": [
      "AUC:0.606\n",
      "accuracy:0.581\n",
      "recall:0.567\n",
      "precision:0.149\n",
      "specificity:0.582\n",
      "prevalence:0.114\n",
      " \n"
     ]
    }
   ],
   "source": [
    "xgb_clf = xgb.XGBClassifier(max_depth=3, learning_rate = 1.0, use_label_encoder = False,\\\n",
    "                            eval_metric = 'logloss')\n",
    "xgb_clf.fit(X_train_try1, y_train)\n",
    "\n",
    "xgb_preds = xgb_clf.predict(X_valid_try1)\n",
    "xgb_preds_proba = xgb_clf.predict_proba(X_valid_try1)[:, 1]\n",
    "\n",
    "lr_valid_auc, lr_valid_accuracy, lr_valid_recall, \\\n",
    "    lr_valid_precision, lr_valid_specificity = print_report(y_valid,xgb_preds_proba, 0.5)"
   ]
  },
  {
   "cell_type": "markdown",
   "id": "7e2ca8e7",
   "metadata": {},
   "source": [
    "## Catboost Model"
   ]
  },
  {
   "cell_type": "code",
   "execution_count": 38,
   "id": "bbba6d6d",
   "metadata": {
    "scrolled": true
   },
   "outputs": [
    {
     "name": "stdout",
     "output_type": "stream",
     "text": [
      "0:\tlearn: 0.6712826\ttotal: 184ms\tremaining: 36.7s\n",
      "1:\tlearn: 0.6673275\ttotal: 206ms\tremaining: 20.4s\n",
      "2:\tlearn: 0.6654723\ttotal: 220ms\tremaining: 14.4s\n",
      "3:\tlearn: 0.6643218\ttotal: 236ms\tremaining: 11.6s\n",
      "4:\tlearn: 0.6634768\ttotal: 251ms\tremaining: 9.78s\n",
      "5:\tlearn: 0.6621311\ttotal: 262ms\tremaining: 8.47s\n",
      "6:\tlearn: 0.6607321\ttotal: 275ms\tremaining: 7.58s\n",
      "7:\tlearn: 0.6601515\ttotal: 287ms\tremaining: 6.89s\n",
      "8:\tlearn: 0.6596016\ttotal: 301ms\tremaining: 6.39s\n",
      "9:\tlearn: 0.6591848\ttotal: 313ms\tremaining: 5.94s\n",
      "10:\tlearn: 0.6583812\ttotal: 322ms\tremaining: 5.54s\n",
      "11:\tlearn: 0.6577374\ttotal: 337ms\tremaining: 5.28s\n",
      "12:\tlearn: 0.6566526\ttotal: 352ms\tremaining: 5.06s\n",
      "13:\tlearn: 0.6555355\ttotal: 364ms\tremaining: 4.84s\n",
      "14:\tlearn: 0.6546320\ttotal: 376ms\tremaining: 4.64s\n",
      "15:\tlearn: 0.6539351\ttotal: 390ms\tremaining: 4.49s\n",
      "16:\tlearn: 0.6530831\ttotal: 400ms\tremaining: 4.31s\n",
      "17:\tlearn: 0.6524436\ttotal: 411ms\tremaining: 4.16s\n",
      "18:\tlearn: 0.6521580\ttotal: 423ms\tremaining: 4.03s\n",
      "19:\tlearn: 0.6514755\ttotal: 435ms\tremaining: 3.91s\n",
      "20:\tlearn: 0.6509549\ttotal: 448ms\tremaining: 3.82s\n",
      "21:\tlearn: 0.6507178\ttotal: 462ms\tremaining: 3.73s\n",
      "22:\tlearn: 0.6501972\ttotal: 475ms\tremaining: 3.66s\n",
      "23:\tlearn: 0.6495656\ttotal: 488ms\tremaining: 3.58s\n",
      "24:\tlearn: 0.6492692\ttotal: 501ms\tremaining: 3.51s\n",
      "25:\tlearn: 0.6488015\ttotal: 516ms\tremaining: 3.46s\n",
      "26:\tlearn: 0.6482133\ttotal: 526ms\tremaining: 3.37s\n",
      "27:\tlearn: 0.6475800\ttotal: 538ms\tremaining: 3.3s\n",
      "28:\tlearn: 0.6468561\ttotal: 554ms\tremaining: 3.27s\n",
      "29:\tlearn: 0.6462931\ttotal: 568ms\tremaining: 3.22s\n",
      "30:\tlearn: 0.6454569\ttotal: 588ms\tremaining: 3.21s\n",
      "31:\tlearn: 0.6448549\ttotal: 604ms\tremaining: 3.17s\n",
      "32:\tlearn: 0.6443520\ttotal: 620ms\tremaining: 3.14s\n",
      "33:\tlearn: 0.6438764\ttotal: 633ms\tremaining: 3.09s\n",
      "34:\tlearn: 0.6437121\ttotal: 647ms\tremaining: 3.05s\n",
      "35:\tlearn: 0.6434215\ttotal: 665ms\tremaining: 3.03s\n",
      "36:\tlearn: 0.6432806\ttotal: 683ms\tremaining: 3.01s\n",
      "37:\tlearn: 0.6427059\ttotal: 697ms\tremaining: 2.97s\n",
      "38:\tlearn: 0.6421793\ttotal: 709ms\tremaining: 2.92s\n",
      "39:\tlearn: 0.6417761\ttotal: 721ms\tremaining: 2.88s\n",
      "40:\tlearn: 0.6413808\ttotal: 733ms\tremaining: 2.84s\n",
      "41:\tlearn: 0.6413184\ttotal: 746ms\tremaining: 2.81s\n",
      "42:\tlearn: 0.6407948\ttotal: 758ms\tremaining: 2.77s\n",
      "43:\tlearn: 0.6401266\ttotal: 771ms\tremaining: 2.73s\n",
      "44:\tlearn: 0.6395573\ttotal: 784ms\tremaining: 2.7s\n",
      "45:\tlearn: 0.6391075\ttotal: 798ms\tremaining: 2.67s\n",
      "46:\tlearn: 0.6383697\ttotal: 811ms\tremaining: 2.64s\n",
      "47:\tlearn: 0.6380365\ttotal: 824ms\tremaining: 2.61s\n",
      "48:\tlearn: 0.6376353\ttotal: 835ms\tremaining: 2.57s\n",
      "49:\tlearn: 0.6373227\ttotal: 848ms\tremaining: 2.54s\n",
      "50:\tlearn: 0.6365870\ttotal: 861ms\tremaining: 2.51s\n",
      "51:\tlearn: 0.6360334\ttotal: 871ms\tremaining: 2.48s\n",
      "52:\tlearn: 0.6354283\ttotal: 885ms\tremaining: 2.45s\n",
      "53:\tlearn: 0.6351395\ttotal: 897ms\tremaining: 2.42s\n",
      "54:\tlearn: 0.6343634\ttotal: 912ms\tremaining: 2.4s\n",
      "55:\tlearn: 0.6342340\ttotal: 925ms\tremaining: 2.38s\n",
      "56:\tlearn: 0.6337337\ttotal: 938ms\tremaining: 2.35s\n",
      "57:\tlearn: 0.6331091\ttotal: 950ms\tremaining: 2.33s\n",
      "58:\tlearn: 0.6327967\ttotal: 964ms\tremaining: 2.3s\n",
      "59:\tlearn: 0.6324399\ttotal: 975ms\tremaining: 2.27s\n",
      "60:\tlearn: 0.6321153\ttotal: 989ms\tremaining: 2.25s\n",
      "61:\tlearn: 0.6317799\ttotal: 1000ms\tremaining: 2.22s\n",
      "62:\tlearn: 0.6313511\ttotal: 1.01s\tremaining: 2.2s\n",
      "63:\tlearn: 0.6309706\ttotal: 1.02s\tremaining: 2.18s\n",
      "64:\tlearn: 0.6306157\ttotal: 1.04s\tremaining: 2.15s\n",
      "65:\tlearn: 0.6301737\ttotal: 1.05s\tremaining: 2.13s\n",
      "66:\tlearn: 0.6297260\ttotal: 1.06s\tremaining: 2.11s\n",
      "67:\tlearn: 0.6289636\ttotal: 1.07s\tremaining: 2.08s\n",
      "68:\tlearn: 0.6285061\ttotal: 1.09s\tremaining: 2.06s\n",
      "69:\tlearn: 0.6283069\ttotal: 1.1s\tremaining: 2.05s\n",
      "70:\tlearn: 0.6279322\ttotal: 1.12s\tremaining: 2.03s\n",
      "71:\tlearn: 0.6274667\ttotal: 1.13s\tremaining: 2.01s\n",
      "72:\tlearn: 0.6270451\ttotal: 1.15s\tremaining: 2s\n",
      "73:\tlearn: 0.6265403\ttotal: 1.16s\tremaining: 1.98s\n",
      "74:\tlearn: 0.6262525\ttotal: 1.17s\tremaining: 1.96s\n",
      "75:\tlearn: 0.6259407\ttotal: 1.19s\tremaining: 1.94s\n",
      "76:\tlearn: 0.6257082\ttotal: 1.21s\tremaining: 1.93s\n",
      "77:\tlearn: 0.6251994\ttotal: 1.22s\tremaining: 1.91s\n",
      "78:\tlearn: 0.6246938\ttotal: 1.23s\tremaining: 1.89s\n",
      "79:\tlearn: 0.6240846\ttotal: 1.24s\tremaining: 1.86s\n",
      "80:\tlearn: 0.6238709\ttotal: 1.26s\tremaining: 1.85s\n",
      "81:\tlearn: 0.6236372\ttotal: 1.27s\tremaining: 1.82s\n",
      "82:\tlearn: 0.6235281\ttotal: 1.28s\tremaining: 1.8s\n",
      "83:\tlearn: 0.6228910\ttotal: 1.29s\tremaining: 1.78s\n",
      "84:\tlearn: 0.6225461\ttotal: 1.3s\tremaining: 1.77s\n",
      "85:\tlearn: 0.6222112\ttotal: 1.32s\tremaining: 1.74s\n",
      "86:\tlearn: 0.6218820\ttotal: 1.33s\tremaining: 1.73s\n",
      "87:\tlearn: 0.6217491\ttotal: 1.34s\tremaining: 1.71s\n",
      "88:\tlearn: 0.6214133\ttotal: 1.35s\tremaining: 1.69s\n",
      "89:\tlearn: 0.6209825\ttotal: 1.36s\tremaining: 1.67s\n",
      "90:\tlearn: 0.6208640\ttotal: 1.38s\tremaining: 1.65s\n",
      "91:\tlearn: 0.6208311\ttotal: 1.39s\tremaining: 1.63s\n",
      "92:\tlearn: 0.6205522\ttotal: 1.4s\tremaining: 1.61s\n",
      "93:\tlearn: 0.6200201\ttotal: 1.41s\tremaining: 1.59s\n",
      "94:\tlearn: 0.6197498\ttotal: 1.43s\tremaining: 1.57s\n",
      "95:\tlearn: 0.6194370\ttotal: 1.43s\tremaining: 1.55s\n",
      "96:\tlearn: 0.6191177\ttotal: 1.45s\tremaining: 1.53s\n",
      "97:\tlearn: 0.6188835\ttotal: 1.46s\tremaining: 1.52s\n",
      "98:\tlearn: 0.6185053\ttotal: 1.47s\tremaining: 1.5s\n",
      "99:\tlearn: 0.6180697\ttotal: 1.48s\tremaining: 1.48s\n",
      "100:\tlearn: 0.6175954\ttotal: 1.49s\tremaining: 1.46s\n",
      "101:\tlearn: 0.6174881\ttotal: 1.51s\tremaining: 1.45s\n",
      "102:\tlearn: 0.6172274\ttotal: 1.52s\tremaining: 1.43s\n",
      "103:\tlearn: 0.6168058\ttotal: 1.53s\tremaining: 1.41s\n",
      "104:\tlearn: 0.6166048\ttotal: 1.54s\tremaining: 1.39s\n",
      "105:\tlearn: 0.6161856\ttotal: 1.55s\tremaining: 1.38s\n",
      "106:\tlearn: 0.6158610\ttotal: 1.56s\tremaining: 1.36s\n",
      "107:\tlearn: 0.6158084\ttotal: 1.58s\tremaining: 1.34s\n",
      "108:\tlearn: 0.6155043\ttotal: 1.59s\tremaining: 1.33s\n",
      "109:\tlearn: 0.6154021\ttotal: 1.6s\tremaining: 1.31s\n",
      "110:\tlearn: 0.6151403\ttotal: 1.62s\tremaining: 1.3s\n",
      "111:\tlearn: 0.6149033\ttotal: 1.63s\tremaining: 1.28s\n",
      "112:\tlearn: 0.6146303\ttotal: 1.64s\tremaining: 1.26s\n",
      "113:\tlearn: 0.6145969\ttotal: 1.65s\tremaining: 1.25s\n",
      "114:\tlearn: 0.6142420\ttotal: 1.66s\tremaining: 1.23s\n",
      "115:\tlearn: 0.6139177\ttotal: 1.67s\tremaining: 1.21s\n",
      "116:\tlearn: 0.6138408\ttotal: 1.69s\tremaining: 1.2s\n",
      "117:\tlearn: 0.6136244\ttotal: 1.7s\tremaining: 1.18s\n",
      "118:\tlearn: 0.6134763\ttotal: 1.71s\tremaining: 1.16s\n",
      "119:\tlearn: 0.6131221\ttotal: 1.72s\tremaining: 1.15s\n",
      "120:\tlearn: 0.6128305\ttotal: 1.73s\tremaining: 1.13s\n",
      "121:\tlearn: 0.6124936\ttotal: 1.74s\tremaining: 1.11s\n",
      "122:\tlearn: 0.6121179\ttotal: 1.75s\tremaining: 1.1s\n",
      "123:\tlearn: 0.6119504\ttotal: 1.77s\tremaining: 1.08s\n",
      "124:\tlearn: 0.6115614\ttotal: 1.78s\tremaining: 1.07s\n",
      "125:\tlearn: 0.6112462\ttotal: 1.79s\tremaining: 1.05s\n",
      "126:\tlearn: 0.6110742\ttotal: 1.8s\tremaining: 1.03s\n",
      "127:\tlearn: 0.6110275\ttotal: 1.81s\tremaining: 1.02s\n",
      "128:\tlearn: 0.6107977\ttotal: 1.82s\tremaining: 1s\n",
      "129:\tlearn: 0.6106631\ttotal: 1.84s\tremaining: 990ms\n",
      "130:\tlearn: 0.6103404\ttotal: 1.85s\tremaining: 974ms\n",
      "131:\tlearn: 0.6099948\ttotal: 1.86s\tremaining: 957ms\n",
      "132:\tlearn: 0.6098564\ttotal: 1.87s\tremaining: 942ms\n",
      "133:\tlearn: 0.6097350\ttotal: 1.88s\tremaining: 927ms\n",
      "134:\tlearn: 0.6095156\ttotal: 1.89s\tremaining: 912ms\n",
      "135:\tlearn: 0.6091940\ttotal: 1.91s\tremaining: 898ms\n",
      "136:\tlearn: 0.6089210\ttotal: 1.92s\tremaining: 884ms\n",
      "137:\tlearn: 0.6086521\ttotal: 1.93s\tremaining: 869ms\n",
      "138:\tlearn: 0.6085167\ttotal: 1.95s\tremaining: 855ms\n",
      "139:\tlearn: 0.6084346\ttotal: 1.96s\tremaining: 841ms\n",
      "140:\tlearn: 0.6082293\ttotal: 1.98s\tremaining: 827ms\n",
      "141:\tlearn: 0.6080268\ttotal: 1.99s\tremaining: 813ms\n",
      "142:\tlearn: 0.6076987\ttotal: 2s\tremaining: 799ms\n",
      "143:\tlearn: 0.6074831\ttotal: 2.02s\tremaining: 784ms\n",
      "144:\tlearn: 0.6071876\ttotal: 2.03s\tremaining: 770ms\n",
      "145:\tlearn: 0.6070591\ttotal: 2.04s\tremaining: 756ms\n",
      "146:\tlearn: 0.6066974\ttotal: 2.06s\tremaining: 742ms\n",
      "147:\tlearn: 0.6066336\ttotal: 2.07s\tremaining: 727ms\n",
      "148:\tlearn: 0.6063198\ttotal: 2.08s\tremaining: 712ms\n",
      "149:\tlearn: 0.6059596\ttotal: 2.1s\tremaining: 698ms\n",
      "150:\tlearn: 0.6058159\ttotal: 2.11s\tremaining: 685ms\n",
      "151:\tlearn: 0.6054480\ttotal: 2.13s\tremaining: 671ms\n",
      "152:\tlearn: 0.6052267\ttotal: 2.14s\tremaining: 657ms\n",
      "153:\tlearn: 0.6050297\ttotal: 2.15s\tremaining: 642ms\n",
      "154:\tlearn: 0.6050257\ttotal: 2.16s\tremaining: 628ms\n",
      "155:\tlearn: 0.6046879\ttotal: 2.17s\tremaining: 614ms\n",
      "156:\tlearn: 0.6041171\ttotal: 2.19s\tremaining: 599ms\n",
      "157:\tlearn: 0.6039158\ttotal: 2.2s\tremaining: 585ms\n",
      "158:\tlearn: 0.6037006\ttotal: 2.21s\tremaining: 570ms\n",
      "159:\tlearn: 0.6035917\ttotal: 2.22s\tremaining: 556ms\n",
      "160:\tlearn: 0.6031787\ttotal: 2.23s\tremaining: 541ms\n",
      "161:\tlearn: 0.6030073\ttotal: 2.25s\tremaining: 527ms\n",
      "162:\tlearn: 0.6026852\ttotal: 2.25s\tremaining: 512ms\n",
      "163:\tlearn: 0.6026721\ttotal: 2.27s\tremaining: 498ms\n",
      "164:\tlearn: 0.6025031\ttotal: 2.28s\tremaining: 484ms\n",
      "165:\tlearn: 0.6021666\ttotal: 2.29s\tremaining: 469ms\n",
      "166:\tlearn: 0.6019900\ttotal: 2.3s\tremaining: 455ms\n",
      "167:\tlearn: 0.6016128\ttotal: 2.31s\tremaining: 441ms\n",
      "168:\tlearn: 0.6012090\ttotal: 2.33s\tremaining: 427ms\n",
      "169:\tlearn: 0.6010510\ttotal: 2.34s\tremaining: 413ms\n",
      "170:\tlearn: 0.6008165\ttotal: 2.35s\tremaining: 399ms\n",
      "171:\tlearn: 0.6004552\ttotal: 2.36s\tremaining: 384ms\n",
      "172:\tlearn: 0.6004356\ttotal: 2.37s\tremaining: 370ms\n",
      "173:\tlearn: 0.6001621\ttotal: 2.38s\tremaining: 356ms\n",
      "174:\tlearn: 0.5998941\ttotal: 2.4s\tremaining: 342ms\n",
      "175:\tlearn: 0.5998087\ttotal: 2.41s\tremaining: 328ms\n",
      "176:\tlearn: 0.5996167\ttotal: 2.42s\tremaining: 314ms\n",
      "177:\tlearn: 0.5993515\ttotal: 2.43s\tremaining: 300ms\n",
      "178:\tlearn: 0.5990654\ttotal: 2.44s\tremaining: 287ms\n",
      "179:\tlearn: 0.5986066\ttotal: 2.45s\tremaining: 273ms\n",
      "180:\tlearn: 0.5984145\ttotal: 2.46s\tremaining: 259ms\n",
      "181:\tlearn: 0.5984006\ttotal: 2.48s\tremaining: 245ms\n",
      "182:\tlearn: 0.5981666\ttotal: 2.48s\tremaining: 231ms\n",
      "183:\tlearn: 0.5979756\ttotal: 2.5s\tremaining: 217ms\n",
      "184:\tlearn: 0.5976317\ttotal: 2.51s\tremaining: 203ms\n",
      "185:\tlearn: 0.5974513\ttotal: 2.52s\tremaining: 190ms\n",
      "186:\tlearn: 0.5973220\ttotal: 2.53s\tremaining: 176ms\n",
      "187:\tlearn: 0.5973064\ttotal: 2.54s\tremaining: 162ms\n",
      "188:\tlearn: 0.5971097\ttotal: 2.55s\tremaining: 149ms\n",
      "189:\tlearn: 0.5968412\ttotal: 2.56s\tremaining: 135ms\n",
      "190:\tlearn: 0.5966877\ttotal: 2.58s\tremaining: 121ms\n",
      "191:\tlearn: 0.5963083\ttotal: 2.58s\tremaining: 108ms\n",
      "192:\tlearn: 0.5961944\ttotal: 2.6s\tremaining: 94.2ms\n",
      "193:\tlearn: 0.5959600\ttotal: 2.61s\tremaining: 80.7ms\n",
      "194:\tlearn: 0.5956383\ttotal: 2.62s\tremaining: 67.2ms\n",
      "195:\tlearn: 0.5956244\ttotal: 2.63s\tremaining: 53.7ms\n",
      "196:\tlearn: 0.5954027\ttotal: 2.64s\tremaining: 40.3ms\n",
      "197:\tlearn: 0.5951901\ttotal: 2.65s\tremaining: 26.8ms\n",
      "198:\tlearn: 0.5949605\ttotal: 2.67s\tremaining: 13.4ms\n",
      "199:\tlearn: 0.5947018\ttotal: 2.68s\tremaining: 0us\n",
      "AUC:0.590\n",
      "accuracy:0.578\n",
      "recall:0.535\n",
      "precision:0.142\n",
      "specificity:0.584\n",
      "prevalence:0.114\n",
      " \n"
     ]
    }
   ],
   "source": [
    "catb=CatBoostClassifier(iterations=200, depth=3, learning_rate=1.0, random_state = 111)\n",
    "catb.fit(X_train, y_train)\n",
    "catb_preds = catb.predict_proba(X_valid)[:, 1]\n",
    "\n",
    "lr_valid_auc, lr_valid_accuracy, lr_valid_recall, \\\n",
    "    lr_valid_precision, lr_valid_specificity = print_report(y_valid,catb_preds, 0.5)"
   ]
  },
  {
   "cell_type": "markdown",
   "id": "8c626d9f",
   "metadata": {},
   "source": [
    "# Hyper Parameter Tuning"
   ]
  },
  {
   "cell_type": "code",
   "execution_count": 39,
   "id": "07badac3",
   "metadata": {},
   "outputs": [],
   "source": [
    "recall_scoring = make_scorer(recall_score)"
   ]
  },
  {
   "cell_type": "markdown",
   "id": "fc13ff12",
   "metadata": {},
   "source": [
    "## Decision Tree - Hyper Parameter Tuning"
   ]
  },
  {
   "cell_type": "code",
   "execution_count": 40,
   "id": "118367d5",
   "metadata": {},
   "outputs": [
    {
     "name": "stdout",
     "output_type": "stream",
     "text": [
      "Fitting 2 folds for each of 20 candidates, totalling 40 fits\n"
     ]
    },
    {
     "data": {
      "text/plain": [
       "0.5229444651667485"
      ]
     },
     "execution_count": 40,
     "metadata": {},
     "output_type": "execute_result"
    }
   ],
   "source": [
    "dc_grid = {'max_features':['auto','sqrt'], # maximum number of features to use at each split\n",
    "           'max_depth':range(1,11,1), # maximum depth of the tree\n",
    "           'min_samples_split':range(2,10,2), # minimum number of samples to split a node\n",
    "           'criterion':['gini','entropy']} # criterion for evaluating a split\n",
    "\n",
    "dc_random = RandomizedSearchCV(estimator = dc_clf, param_distributions = dc_grid, \n",
    "                               n_iter = 20, cv = 2, scoring=recall_scoring,\n",
    "                               verbose = 1, random_state = 111)\n",
    "\n",
    "dc_random.fit(X_train, y_train)\n",
    "\n",
    "dc_random.best_params_\n",
    "\n",
    "dc_hp_preds = dc_random.best_estimator_.predict(X_valid)\n",
    "dc_hp_preds_proba = dc_random.best_estimator_.predict_proba(X_valid)[:,1]\n",
    "roc_auc_score(y_valid, dc_hp_preds_proba)"
   ]
  },
  {
   "cell_type": "code",
   "execution_count": 41,
   "id": "bed248d5",
   "metadata": {},
   "outputs": [
    {
     "data": {
      "text/plain": [
       "0.6217765042979942"
      ]
     },
     "execution_count": 41,
     "metadata": {},
     "output_type": "execute_result"
    }
   ],
   "source": [
    "recall_score(y_valid, dc_hp_preds)"
   ]
  },
  {
   "cell_type": "markdown",
   "id": "6e9e00a2",
   "metadata": {},
   "source": [
    "## Random Forest - Hyper Parameter Tuning"
   ]
  },
  {
   "cell_type": "code",
   "execution_count": 43,
   "id": "d7f41f64",
   "metadata": {},
   "outputs": [
    {
     "name": "stdout",
     "output_type": "stream",
     "text": [
      "Fitting 2 folds for each of 20 candidates, totalling 40 fits\n"
     ]
    },
    {
     "data": {
      "text/plain": [
       "0.6294584696766755"
      ]
     },
     "execution_count": 43,
     "metadata": {},
     "output_type": "execute_result"
    }
   ],
   "source": [
    "rf_grid = {'n_estimators':range(200,1000,200), # number of trees\n",
    "           'max_features':['auto','sqrt'], # maximum number of features to use at each split\n",
    "           'max_depth':range(1,11,1), # maximum depth of the tree\n",
    "           'min_samples_split':range(2,10,2), # minimum number of samples to split a node\n",
    "           'criterion':['gini','entropy']} # criterion for evaluating a split\n",
    "\n",
    "rf_random = RandomizedSearchCV(estimator = rf_clf, param_distributions = rf_grid, \n",
    "                               n_iter = 20, cv = 2, scoring=recall_scoring,\n",
    "                               verbose = 1, random_state = 111)\n",
    "\n",
    "rf_random.fit(X_train, y_train)\n",
    "\n",
    "rf_random.best_params_\n",
    "\n",
    "rf_hp_preds = rf_random.best_estimator_.predict(X_valid)\n",
    "rf_hp_preds_proba = rf_random.best_estimator_.predict_proba(X_valid)[:,1]\n",
    "roc_auc_score(y_valid, rf_hp_preds_proba)"
   ]
  },
  {
   "cell_type": "code",
   "execution_count": 44,
   "id": "cfd2374b",
   "metadata": {},
   "outputs": [
    {
     "data": {
      "text/plain": [
       "0.563323782234957"
      ]
     },
     "execution_count": 44,
     "metadata": {},
     "output_type": "execute_result"
    }
   ],
   "source": [
    "recall_score(y_valid, rf_hp_preds)"
   ]
  },
  {
   "cell_type": "markdown",
   "id": "999a0b59",
   "metadata": {},
   "source": [
    "## XGBoost - Hyper Parameter Tuning"
   ]
  },
  {
   "cell_type": "code",
   "execution_count": 45,
   "id": "faa3a0e1",
   "metadata": {},
   "outputs": [],
   "source": [
    "X_train_try2 = X_train.to_numpy()\n",
    "X_valid_try2 = X_valid.to_numpy()"
   ]
  },
  {
   "cell_type": "code",
   "execution_count": 46,
   "id": "077e1fde",
   "metadata": {
    "scrolled": true
   },
   "outputs": [
    {
     "name": "stdout",
     "output_type": "stream",
     "text": [
      "Fitting 2 folds for each of 720 candidates, totalling 1440 fits\n"
     ]
    },
    {
     "data": {
      "text/plain": [
       "0.6199782769027314"
      ]
     },
     "execution_count": 46,
     "metadata": {},
     "output_type": "execute_result"
    }
   ],
   "source": [
    "xgb_grid = params = {\n",
    "        'min_child_weight': [1, 5, 8, 10],\n",
    "        'gamma': [0.5, 1, 1.5, 2, 5],\n",
    "        'subsample': [0.6, 0.8, 1.0],\n",
    "        'colsample_bytree': [0.6, 0.8, 0.9, 1.0],\n",
    "        'max_depth': [3, 4, 5]\n",
    "        } # criterion for evaluating a split\n",
    "\n",
    "xgb_random = GridSearchCV(estimator = xgb_clf, param_grid = xgb_grid,\n",
    "                               cv = 2, scoring = recall_scoring,\n",
    "                               verbose = 1)\n",
    "\n",
    "xgb_random.fit(X_train_try2, y_train)\n",
    "\n",
    "xgb_random.best_params_\n",
    "\n",
    "xgb_hp_preds = xgb_random.best_estimator_.predict(X_valid_try2)\n",
    "xgb_hp_preds_proba = xgb_random.best_estimator_.predict_proba(X_valid_try2)[:,1]\n",
    "roc_auc_score(y_valid, xgb_hp_preds_proba)"
   ]
  },
  {
   "cell_type": "code",
   "execution_count": 102,
   "id": "77df1428",
   "metadata": {},
   "outputs": [
    {
     "data": {
      "text/plain": [
       "0.775"
      ]
     },
     "execution_count": 102,
     "metadata": {},
     "output_type": "execute_result"
    }
   ],
   "source": [
    "recall_score(y_valid, xgb_hp_preds)"
   ]
  },
  {
   "cell_type": "markdown",
   "id": "6f735fa9",
   "metadata": {},
   "source": [
    "###  Hyper Parameter Tuning Results\n",
    "* We can see that even after the hyper-parameter tuning XGB came out with the highest score of 0.775 beating out all the other models."
   ]
  }
 ],
 "metadata": {
  "kernelspec": {
   "display_name": "Python 3 (ipykernel)",
   "language": "python",
   "name": "python3"
  },
  "language_info": {
   "codemirror_mode": {
    "name": "ipython",
    "version": 3
   },
   "file_extension": ".py",
   "mimetype": "text/x-python",
   "name": "python",
   "nbconvert_exporter": "python",
   "pygments_lexer": "ipython3",
   "version": "3.11.5"
  }
 },
 "nbformat": 4,
 "nbformat_minor": 5
}
